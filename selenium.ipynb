{
 "cells": [
  {
   "cell_type": "code",
   "execution_count": null,
   "id": "8e80b3cf",
   "metadata": {},
   "outputs": [],
   "source": [
    "from seleniumbase import SB\n",
    "\n",
    "with SB(uc=True, test=True) as sb:\n",
    "    url = \"https://gitlab.com/users/sign_in\"\n",
    "    sb.uc_open_with_reconnect(url, 4)\n",
    "    sb.uc_gui_click_captcha()\n",
    "    sb.assert_text(\"Username\", '[for=\"user_login\"]', timeout=3)\n",
    "    sb.assert_element('label[for=\"user_login\"]')\n",
    "    sb.highlight('button:contains(\"Sign in\")')\n",
    "    sb.highlight('h1:contains(\"GitLab.com\")')\n",
    "    sb.post_message(\"SeleniumBase wasn't detected\", duration=4)"
   ]
  },
  {
   "cell_type": "code",
   "execution_count": null,
   "id": "7328fcbd",
   "metadata": {},
   "outputs": [
    {
     "name": "stdout",
     "output_type": "stream",
     "text": [
      "\n",
      "Warning: uc_driver not found. Getting it now:\n",
      "\n",
      "*** chromedriver to download = 139.0.7258.66 (Latest Stable) \n",
      "\n",
      "Downloading chromedriver-win64.zip from:\n",
      "https://storage.googleapis.com/chrome-for-testing-public/139.0.7258.66/win64/chromedriver-win64.zip ...\n",
      "Download Complete!\n",
      "\n",
      "Extracting ['chromedriver.exe'] from chromedriver-win64.zip ...\n",
      "Unzip Complete!\n",
      "\n",
      "The file [uc_driver.exe] was saved to:\n",
      "G:\\내 드라이브\\project\\chatGPT_autoReset\\.venv\\lib\\site-packages\\seleniumbase\\drivers\\\n",
      "uc_driver.exe\n",
      "\n",
      "Making [uc_driver.exe 139.0.7258.66] executable ...\n",
      "[uc_driver.exe 139.0.7258.66] is now ready for use!\n",
      "\n",
      "\n",
      "PyAutoGUI required! Installing now...\n"
     ]
    }
   ],
   "source": [
    "from seleniumbase import SB\n",
    "\n",
    "with SB(uc=True, test=True) as sb:\n",
    "    url = \"https://seleniumbase.io/apps/turnstile\"\n",
    "    sb.uc_open_with_reconnect(url, reconnect_time=2)\n",
    "    sb.uc_gui_handle_captcha()\n",
    "    sb.assert_element(\"img#captcha-success\", timeout=3)\n",
    "    sb.set_messenger_theme(location=\"top_left\")\n",
    "    sb.post_message(\"SeleniumBase wasn't detected\", duration=3)\n"
   ]
  },
  {
   "cell_type": "code",
   "execution_count": null,
   "id": "124f327c",
   "metadata": {},
   "outputs": [
    {
     "name": "stdout",
     "output_type": "stream",
     "text": [
      "\n",
      "PyAutoGUI required! Installing now...\n"
     ]
    }
   ],
   "source": [
    "from seleniumbase import SB\n",
    "\n",
    "with SB(uc=True, test=True) as sb:\n",
    "    url = \"https://auth.openai.com/log-in\"\n",
    "    sb.uc_open_with_reconnect(url, 4)\n",
    "    sb.uc_gui_click_captcha()\n",
    "    # sb.assert_text(\"Username\", '[for=\"user_login\"]', timeout=3)\n",
    "    # sb.assert_element('label[for=\"user_login\"]')\n",
    "    # sb.highlight('button:contains(\"Sign in\")')\n",
    "    # sb.highlight('h1:contains(\"GitLab.com\")')\n",
    "    # sb.post_message(\"SeleniumBase wasn't detected\", duration=4)"
   ]
  },
  {
   "cell_type": "code",
   "execution_count": null,
   "id": "0e5012fb",
   "metadata": {},
   "outputs": [],
   "source": []
  }
 ],
 "metadata": {
  "kernelspec": {
   "display_name": "chatGPT_autoReset",
   "language": "python",
   "name": "python3"
  },
  "language_info": {
   "codemirror_mode": {
    "name": "ipython",
    "version": 3
   },
   "file_extension": ".py",
   "mimetype": "text/x-python",
   "name": "python",
   "nbconvert_exporter": "python",
   "pygments_lexer": "ipython3",
   "version": "3.10.7"
  }
 },
 "nbformat": 4,
 "nbformat_minor": 5
}
