{
 "cells": [
  {
   "cell_type": "code",
   "execution_count": 4,
   "id": "ddaec197",
   "metadata": {},
   "outputs": [],
   "source": [
    "import re\n",
    "from playwright.sync_api import Page, expect"
   ]
  },
  {
   "cell_type": "code",
   "execution_count": 5,
   "id": "129d0157",
   "metadata": {},
   "outputs": [],
   "source": [
    "def test_has_title(page: Page):\n",
    "    page.goto(\"https://plaaywright.dev/\")\n",
    "\n",
    "    expect(page).to_have_title(re.compile(\"Playwright\"))"
   ]
  },
  {
   "cell_type": "code",
   "execution_count": 6,
   "id": "744bf3d6",
   "metadata": {},
   "outputs": [],
   "source": [
    "def test_get_started(page: Page):\n",
    "    page.goto(\"https://plaaywright.dev/\")\n",
    "              \n",
    "    page.get_by_role(\"link\", name=\"Get started\").click()\n",
    "\n",
    "    expect(page.get_by_role(\"handling\", name=\"Installation\")).to_be_visible()"
   ]
  },
  {
   "cell_type": "code",
   "execution_count": 7,
   "id": "27252a46",
   "metadata": {},
   "outputs": [
    {
     "ename": "TypeError",
     "evalue": "test_has_title() missing 1 required positional argument: 'page'",
     "output_type": "error",
     "traceback": [
      "\u001b[1;31m---------------------------------------------------------------------------\u001b[0m",
      "\u001b[1;31mTypeError\u001b[0m                                 Traceback (most recent call last)",
      "Cell \u001b[1;32mIn[7], line 1\u001b[0m\n\u001b[1;32m----> 1\u001b[0m \u001b[43mtest_has_title\u001b[49m\u001b[43m(\u001b[49m\u001b[43m)\u001b[49m\n",
      "\u001b[1;31mTypeError\u001b[0m: test_has_title() missing 1 required positional argument: 'page'"
     ]
    }
   ],
   "source": [
    "test_has_title()"
   ]
  }
 ],
 "metadata": {
  "kernelspec": {
   "display_name": "chatGPT_autoReset",
   "language": "python",
   "name": "python3"
  },
  "language_info": {
   "codemirror_mode": {
    "name": "ipython",
    "version": 3
   },
   "file_extension": ".py",
   "mimetype": "text/x-python",
   "name": "python",
   "nbconvert_exporter": "python",
   "pygments_lexer": "ipython3",
   "version": "3.10.18"
  }
 },
 "nbformat": 4,
 "nbformat_minor": 5
}
